{
 "cells": [
  {
   "cell_type": "markdown",
   "metadata": {},
   "source": [
    "<span style=\"font-size:24pt; color:blue; font-family: 'Times New Roman'\">Notebook \n",
    "    <span style=\"color:green;\"> for creating new estimate of Total Fresh water including floating ice </span>\n",
    "</span>\n",
    "<br>\n",
    "<span style=\"font-size:12pt; color:black; font-family:Georgia, serif;font-style:italic\">by Praveen Kumar and Sophie Nowicki.</span>\n",
    "<br>\n",
    "<br>\n",
    "<span style=\"font-family: 'Times New Roman'; font-size:16pt; color:black\"> \n",
    "    This is a notebook is work in progress. Currently using smaller set of notebooks to test, will combine once done.  \n",
    "    <br>\n",
    "    <span style=\"background-color: yellow;\"> This notebook will serve as the place to find all the needed links. </span>\n",
    "</span>\n",
    "<br>\n",
    "<br>\n",
    "<span style=\"font-family: 'Times New Roman'; font-size:16pt; color:black\"> LINKS: </span>\n",
    "\n",
    "<ol>\n",
    "    <p> Reading List<p>\n",
    "    <li> <a href=\"https://doi.org/10.5194/tc-14-3033-2020\" style=\"color:blue; text-decoration:underline;\">Hélène_Seroussi_et_al</a> ISMIP6 Antarctica: a multi-model ensemble of the Antarctic ice sheet evolution over the 21st century </li>\n",
    "    <li> <a href=\"https://tc.copernicus.org/articles/14/2331/2020/\" style=\"color:blue; text-decoration:underline;\">Nowicki_et_al2020</a> Experimental protocol for sea level projections from ISMIP6 stand-alone ice sheet models </li>\n",
    "    <li> <a href=\"https://agupubs.onlinelibrary.wiley.com/doi/10.1029/2020GL091741\" style=\"color:blue; text-decoration:underline;\">Antony.J.Payne_et_al2021</a> Future Sea Level Change Under Coupled Model Intercomparison Project Phase 5 and Phase 6 Scenarios From the Greenland and Antarctic Ice Sheets </li>\n",
    "    <p>Data Repos</p>\n",
    "    <li> <a href=\"https://zenodo.org/records/3940766\" style=\"color:blue; text-decoration:underline;\">Zenodo DATA Repo</a> data for reproducing - Results of ISMIP6 Antarctica: a multi-model ensemble of the Antarctic ice sheet evolution over the 21st century</li>\n",
    "    <li> <a href=\"https://zenodo.org/records/3940768\" style=\"color:blue; text-decoration:underline;\">Zenodo SCRIPTS Repo</a> Scripts for reproducing - Results of ISMIP6 Antarctica: a multi-model ensemble of the Antarctic ice sheet evolution over the 21st century</li>\n",
    "    <li> <a href=\"https://theghub.org/resources?alias=ismip6aissvnwf2\" style=\"color:blue; text-decoration:underline;\">The Hub</a> -An Open Source Tool for Visualizing ISM Intercomparisons. In local folder <b>(ismip6aissvnwf2-r19.tar.gz)</b> </li>\n",
    "    <li> <a href=\"https://theghub.org/groups/ismip6/wiki/ISMIP6-Projections-Antarctica \" style=\"color:blue; text-decoration:underline;\">ISMIP6 Wiki</a> - Overview: Experimental protocol for Antarctic projections</li>\n",
    "    <p>Ghub & AIS files </p>\n",
    "    <li> <a href=\"https://theghub.org/dataset-listing\" style=\"color:blue; text-decoration:underline;\">GHUB data-listing</a> - Browse Datasets available at Ghub</li>\n",
    "    <li> <a href=\"https://theghub.org/resources/4748/about\" style=\"color:blue; text-decoration:underline;\">Ghub AIS ISMIP6 data</a> - ISMIP6 21st Century Antarctic Projections</li>\n",
    "    <li> <a href=\"https://theghub.org/accessing-data-with-globus#endpoints\" style=\"color:blue; text-decoration:underline;\">How to Access data</a> - Explore Ghub's Globus endpoints </li>\n",
    "</ol>\n",
    "\n",
    "\n",
    "<br>\n",
    "<br>\n",
    "<span style=\"font-family:'Courier New', monospace; font-size:12pt; color:black\"> <b>Background::</b> <br>\n",
    "    <br>\n",
    "</span>"
   ]
  }
 ],
 "metadata": {
  "kernelspec": {
   "display_name": "Python 3 (ipykernel)",
   "language": "python",
   "name": "python3"
  },
  "language_info": {
   "codemirror_mode": {
    "name": "ipython",
    "version": 3
   },
   "file_extension": ".py",
   "mimetype": "text/x-python",
   "name": "python",
   "nbconvert_exporter": "python",
   "pygments_lexer": "ipython3",
   "version": "3.9.18"
  }
 },
 "nbformat": 4,
 "nbformat_minor": 2
}
